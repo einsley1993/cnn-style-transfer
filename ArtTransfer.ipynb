{
  "nbformat": 4,
  "nbformat_minor": 0,
  "metadata": {
    "colab": {
      "name": "ArtTransfer.ipynb",
      "provenance": []
    },
    "kernelspec": {
      "name": "python3",
      "display_name": "Python 3"
    },
    "language_info": {
      "name": "python"
    },
    "accelerator": "GPU"
  },
  "cells": [
    {
      "cell_type": "markdown",
      "metadata": {
        "id": "pngR3AzPPtjB"
      },
      "source": [
        "https://github.com/neeyoo/Neuralnetwork_project_art_transfer"
      ]
    },
    {
      "cell_type": "markdown",
      "metadata": {
        "id": "HdQIBi1gPeXS"
      },
      "source": [
        "# nst_utils"
      ]
    },
    {
      "cell_type": "code",
      "metadata": {
        "id": "DN0qTTJ8JMfu"
      },
      "source": [
        "import os\n",
        "import sys\n",
        "import scipy.io\n",
        "import matplotlib.pyplot as plt\n",
        "import imageio\n",
        "from matplotlib.pyplot import imshow\n",
        "from PIL import Image\n",
        "\n",
        "import numpy as np\n",
        "import tensorflow as tf"
      ],
      "execution_count": null,
      "outputs": []
    },
    {
      "cell_type": "code",
      "metadata": {
        "id": "vj1WmTrJMpD9"
      },
      "source": [
        "# !pip3 install --upgrade --force-reinstall tensorflow-gpu==1.15.0 "
      ],
      "execution_count": null,
      "outputs": []
    },
    {
      "cell_type": "code",
      "metadata": {
        "colab": {
          "base_uri": "https://localhost:8080/",
          "height": 35
        },
        "id": "FwnlnNzpMZI3",
        "outputId": "58083eff-e491-496b-bd7b-2def7dca3d23"
      },
      "source": [
        "tf .__version__"
      ],
      "execution_count": null,
      "outputs": [
        {
          "output_type": "execute_result",
          "data": {
            "application/vnd.google.colaboratory.intrinsic+json": {
              "type": "string"
            },
            "text/plain": [
              "'1.15.0'"
            ]
          },
          "metadata": {
            "tags": []
          },
          "execution_count": 86
        }
      ]
    },
    {
      "cell_type": "code",
      "metadata": {
        "id": "KtEC-b4UJEaG"
      },
      "source": [
        "class CONFIG:\n",
        "    IMAGE_WIDTH = 800\n",
        "    IMAGE_HEIGHT = 600\n",
        "    COLOR_CHANNELS = 3\n",
        "    NOISE_RATIO = 0.6\n",
        "    MEANS = np.array([123.68, 116.779, 103.939]).reshape((1,1,1,3)) \n",
        "    VGG_MODEL = 'pretrained-model/imagenet-vgg-verydeep-19.mat' # Pick the VGG 19-layer model by from the paper \"Very Deep Convolutional Networks for Large-Scale Image Recognition\".\n",
        "    STYLE_IMAGE = 'images/stone_style.jpg' # Style image to use.\n",
        "    CONTENT_IMAGE = 'images/content300.jpg' # Content image to use.\n",
        "    OUTPUT_DIR = 'output/'"
      ],
      "execution_count": null,
      "outputs": []
    },
    {
      "cell_type": "code",
      "metadata": {
        "id": "f-KkNT0IKuGQ"
      },
      "source": [
        "def load_vgg_model(path):\n",
        "    \"\"\"\n",
        "    Returns a model for the purpose of 'painting' the picture.\n",
        "    Takes only the convolution layer weights and wrap using the TensorFlow\n",
        "    Conv2d, Relu and AveragePooling layer. VGG actually uses maxpool but\n",
        "    the paper indicates that using AveragePooling yields better results.\n",
        "    The last few fully connected layers are not used.\n",
        "    Here is the detailed configuration of the VGG model:\n",
        "        0 is conv1_1 (3, 3, 3, 64)\n",
        "        1 is relu\n",
        "        2 is conv1_2 (3, 3, 64, 64)\n",
        "        3 is relu    \n",
        "        4 is maxpool\n",
        "        5 is conv2_1 (3, 3, 64, 128)\n",
        "        6 is relu\n",
        "        7 is conv2_2 (3, 3, 128, 128)\n",
        "        8 is relu\n",
        "        9 is maxpool\n",
        "        10 is conv3_1 (3, 3, 128, 256)\n",
        "        11 is relu\n",
        "        12 is conv3_2 (3, 3, 256, 256)\n",
        "        13 is relu\n",
        "        14 is conv3_3 (3, 3, 256, 256)\n",
        "        15 is relu\n",
        "        16 is conv3_4 (3, 3, 256, 256)\n",
        "        17 is relu\n",
        "        18 is maxpool\n",
        "        19 is conv4_1 (3, 3, 256, 512)\n",
        "        20 is relu\n",
        "        21 is conv4_2 (3, 3, 512, 512)\n",
        "        22 is relu\n",
        "        23 is conv4_3 (3, 3, 512, 512)\n",
        "        24 is relu\n",
        "        25 is conv4_4 (3, 3, 512, 512)\n",
        "        26 is relu\n",
        "        27 is maxpool\n",
        "        28 is conv5_1 (3, 3, 512, 512)\n",
        "        29 is relu\n",
        "        30 is conv5_2 (3, 3, 512, 512)\n",
        "        31 is relu\n",
        "        32 is conv5_3 (3, 3, 512, 512)\n",
        "        33 is relu\n",
        "        34 is conv5_4 (3, 3, 512, 512)\n",
        "        35 is relu\n",
        "        36 is maxpool\n",
        "        37 is fullyconnected (7, 7, 512, 4096)\n",
        "        38 is relu\n",
        "        39 is fullyconnected (1, 1, 4096, 4096)\n",
        "        40 is relu\n",
        "        41 is fullyconnected (1, 1, 4096, 1000)\n",
        "        42 is softmax\n",
        "    \"\"\"\n",
        "    \n",
        "    vgg = scipy.io.loadmat(path)\n",
        "\n",
        "    vgg_layers = vgg['layers']\n",
        "    \n",
        "    def _weights(layer, expected_layer_name):\n",
        "        \"\"\"\n",
        "        Return the weights and bias from the VGG model for a given layer.\n",
        "        \"\"\"\n",
        "        wb = vgg_layers[0][layer][0][0][2]\n",
        "        W = wb[0][0]\n",
        "        b = wb[0][1]\n",
        "        layer_name = vgg_layers[0][layer][0][0][0][0]\n",
        "        assert layer_name == expected_layer_name\n",
        "        return W, b\n",
        "\n",
        "        return W, b\n",
        "\n",
        "    def _relu(conv2d_layer):\n",
        "        \"\"\"\n",
        "        Return the RELU function wrapped over a TensorFlow layer. Expects a\n",
        "        Conv2d layer input.\n",
        "        \"\"\"\n",
        "        return tf.nn.relu(conv2d_layer)\n",
        "\n",
        "    def _conv2d(prev_layer, layer, layer_name):\n",
        "        \"\"\"\n",
        "        Return the Conv2D layer using the weights, biases from the VGG\n",
        "        model at 'layer'.\n",
        "        \"\"\"\n",
        "        W, b = _weights(layer, layer_name)\n",
        "        W = tf.constant(W)\n",
        "        b = tf.constant(np.reshape(b, (b.size)))\n",
        "        return tf.nn.conv2d(prev_layer, filter=W, strides=[1, 1, 1, 1], padding='SAME') + b\n",
        "\n",
        "    def _conv2d_relu(prev_layer, layer, layer_name):\n",
        "        \"\"\"\n",
        "        Return the Conv2D + RELU layer using the weights, biases from the VGG\n",
        "        model at 'layer'.\n",
        "        \"\"\"\n",
        "        return _relu(_conv2d(prev_layer, layer, layer_name))\n",
        "\n",
        "    def _avgpool(prev_layer):\n",
        "        \"\"\"\n",
        "        Return the AveragePooling layer.\n",
        "        \"\"\"\n",
        "        return tf.nn.avg_pool(prev_layer, ksize=[1, 2, 2, 1], strides=[1, 2, 2, 1], padding='SAME')\n",
        "\n",
        "    # Constructs the graph model.\n",
        "    graph = {}\n",
        "    graph['input']   = tf.Variable(np.zeros((1, CONFIG.IMAGE_HEIGHT, CONFIG.IMAGE_WIDTH, CONFIG.COLOR_CHANNELS)), dtype = 'float32')\n",
        "    graph['conv1_1']  = _conv2d_relu(graph['input'], 0, 'conv1_1')\n",
        "    graph['conv1_2']  = _conv2d_relu(graph['conv1_1'], 2, 'conv1_2')\n",
        "    graph['avgpool1'] = _avgpool(graph['conv1_2'])\n",
        "    graph['conv2_1']  = _conv2d_relu(graph['avgpool1'], 5, 'conv2_1')\n",
        "    graph['conv2_2']  = _conv2d_relu(graph['conv2_1'], 7, 'conv2_2')\n",
        "    graph['avgpool2'] = _avgpool(graph['conv2_2'])\n",
        "    graph['conv3_1']  = _conv2d_relu(graph['avgpool2'], 10, 'conv3_1')\n",
        "    graph['conv3_2']  = _conv2d_relu(graph['conv3_1'], 12, 'conv3_2')\n",
        "    graph['conv3_3']  = _conv2d_relu(graph['conv3_2'], 14, 'conv3_3')\n",
        "    graph['conv3_4']  = _conv2d_relu(graph['conv3_3'], 16, 'conv3_4')\n",
        "    graph['avgpool3'] = _avgpool(graph['conv3_4'])\n",
        "    graph['conv4_1']  = _conv2d_relu(graph['avgpool3'], 19, 'conv4_1')\n",
        "    graph['conv4_2']  = _conv2d_relu(graph['conv4_1'], 21, 'conv4_2')\n",
        "    graph['conv4_3']  = _conv2d_relu(graph['conv4_2'], 23, 'conv4_3')\n",
        "    graph['conv4_4']  = _conv2d_relu(graph['conv4_3'], 25, 'conv4_4')\n",
        "    graph['avgpool4'] = _avgpool(graph['conv4_4'])\n",
        "    graph['conv5_1']  = _conv2d_relu(graph['avgpool4'], 28, 'conv5_1')\n",
        "    graph['conv5_2']  = _conv2d_relu(graph['conv5_1'], 30, 'conv5_2')\n",
        "    graph['conv5_3']  = _conv2d_relu(graph['conv5_2'], 32, 'conv5_3')\n",
        "    graph['conv5_4']  = _conv2d_relu(graph['conv5_3'], 34, 'conv5_4')\n",
        "    graph['avgpool5'] = _avgpool(graph['conv5_4'])\n",
        "    \n",
        "    return graph"
      ],
      "execution_count": null,
      "outputs": []
    },
    {
      "cell_type": "code",
      "metadata": {
        "id": "cReWCP_wKKqi"
      },
      "source": [
        "def generate_noise_image(content_image, noise_ratio = CONFIG.NOISE_RATIO):\n",
        "    \"\"\"\n",
        "    Generates a noisy image by adding random noise to the content_image\n",
        "    \"\"\"\n",
        "    \n",
        "    # Generate a random noise_image\n",
        "    noise_image = np.random.uniform(-20, 20, (1,CONFIG.IMAGE_HEIGHT, CONFIG.IMAGE_WIDTH, CONFIG.COLOR_CHANNELS)).astype('float32')\n",
        "    \n",
        "    # Set the input_image to be a weighted average of the content_image and a noise_image\n",
        "    input_image = noise_image * noise_ratio + content_image * (1 - noise_ratio)\n",
        "    \n",
        "    return input_image\n",
        "\n",
        "def reshape_and_normalize_image(image):\n",
        "    \"\"\"\n",
        "    Reshape and normalize the input image (content or style)\n",
        "    \"\"\"\n",
        "    \n",
        "    # Reshape image to mach expected input of VGG16\n",
        "    image = np.reshape(image, ((1,) + image.shape))\n",
        "    \n",
        "    # Substract the mean to match the expected input of VGG16\n",
        "    image = image - CONFIG.MEANS\n",
        "    \n",
        "    return image\n",
        "\n",
        "\n",
        "def save_image(path, image):\n",
        "    \n",
        "    # Un-normalize the image so that it looks good\n",
        "    image = image + CONFIG.MEANS\n",
        "    \n",
        "    # Clip and Save the image\n",
        "    image = np.clip(image[0], 0, 255).astype('uint8')\n",
        "    imageio.imwrite(path, image)"
      ],
      "execution_count": null,
      "outputs": []
    },
    {
      "cell_type": "markdown",
      "metadata": {
        "id": "NeOLW4lFK7Bu"
      },
      "source": [
        "# Art generation"
      ]
    },
    {
      "cell_type": "code",
      "metadata": {
        "id": "YMfytf31KLOV"
      },
      "source": [
        "import os\n",
        "import sys\n",
        "import scipy.io\n",
        "import scipy.misc\n",
        "import matplotlib.pyplot as plt\n",
        "from matplotlib.pyplot import imshow\n",
        "from PIL import Image\n",
        "# from nst_utils import *\n",
        "import numpy as np\n",
        "import tensorflow as tf\n",
        "import imageio\n",
        "\n",
        "%matplotlib inline"
      ],
      "execution_count": null,
      "outputs": []
    },
    {
      "cell_type": "code",
      "metadata": {
        "id": "xxv6lU-vK-K8"
      },
      "source": [
        "# GRADED FUNCTION: compute_content_cost\n",
        "\n",
        "def compute_content_cost(a_C, a_G):\n",
        "    \"\"\"\n",
        "    Computes the content cost\n",
        "    \n",
        "    Arguments:\n",
        "    a_C -- tensor of dimension (1, n_H, n_W, n_C), hidden layer activations representing content of the image C \n",
        "    a_G -- tensor of dimension (1, n_H, n_W, n_C), hidden layer activations representing content of the image G\n",
        "    \n",
        "    Returns: \n",
        "    J_content -- scalar that you compute using equation 1 above.\n",
        "    \"\"\"\n",
        "    \n",
        "    ### START CODE HERE ###\n",
        "    # Retrieve dimensions from a_G (≈1 line)\n",
        "    m, n_H, n_W, n_C = a_G.get_shape().as_list()\n",
        "    \n",
        "    # Reshape a_C and a_G (≈2 lines)\n",
        "    a_C_unrolled = tf.transpose(tf.reshape(a_C,(n_H*n_W,n_C)))\n",
        "    a_G_unrolled = tf.transpose(tf.reshape(a_G,(n_H*n_W,n_C)))\n",
        "    \n",
        "    # compute the cost with tensorflow (≈1 line)\n",
        "    J_content = (1/(4*n_H*n_W*n_C))*tf.reduce_sum(tf.square(tf.subtract(a_C_unrolled,a_G_unrolled)),[0,1])\n",
        "    ### END CODE HERE ###\n",
        "    \n",
        "    return J_content\n"
      ],
      "execution_count": null,
      "outputs": []
    },
    {
      "cell_type": "code",
      "metadata": {
        "id": "4pflprIpLBnr"
      },
      "source": [
        "# GRADED FUNCTION: gram_matrix\n",
        "\n",
        "def gram_matrix(A):\n",
        "    \"\"\"\n",
        "    Argument:\n",
        "    A -- matrix of shape (n_C, n_H*n_W)\n",
        "    \n",
        "    Returns:\n",
        "    GA -- Gram matrix of A, of shape (n_C, n_C)\n",
        "    \"\"\"\n",
        "    \n",
        "    ### START CODE HERE ### (≈1 line)\n",
        "    GA = tf.matmul(A,A,transpose_b=True)\n",
        "    ### END CODE HERE ###\n",
        "    \n",
        "    return GA"
      ],
      "execution_count": null,
      "outputs": []
    },
    {
      "cell_type": "code",
      "metadata": {
        "id": "Ku2Q2fJhLDb-"
      },
      "source": [
        "# GRADED FUNCTION: compute_layer_style_cost\n",
        "\n",
        "def compute_layer_style_cost(a_S, a_G):\n",
        "    \"\"\"\n",
        "    Arguments:\n",
        "    a_S -- tensor of dimension (1, n_H, n_W, n_C), hidden layer activations representing style of the image S \n",
        "    a_G -- tensor of dimension (1, n_H, n_W, n_C), hidden layer activations representing style of the image G\n",
        "    \n",
        "    Returns: \n",
        "    J_style_layer -- tensor representing a scalar value, style cost defined above by equation (2)\n",
        "    \"\"\"\n",
        "    \n",
        "    ### START CODE HERE ###\n",
        "    # Retrieve dimensions from a_G (≈1 line)\n",
        "    m, n_H, n_W, n_C = a_G.get_shape().as_list()\n",
        "    \n",
        "    # Reshape the images to have them of shape (n_C, n_H*n_W) (≈2 lines)\n",
        "    a_S = tf.transpose(tf.reshape(a_S,(n_H*n_W,n_C)))\n",
        "    a_G = tf.transpose(tf.reshape(a_G,(n_H*n_W,n_C)))\n",
        "\n",
        "    # Computing gram_matrices for both images S and G (≈2 lines)\n",
        "    GS = gram_matrix(a_S)\n",
        "    GG = gram_matrix(a_G)\n",
        "\n",
        "    # Computing the loss (≈1 line)\n",
        "    J_style_layer = (1/(4*n_C*n_C*n_H*n_H*n_W*n_W))*tf.reduce_sum(tf.square(tf.subtract(GS,GG)),[0,1])\n",
        "\n",
        "    ### END CODE HERE ###\n",
        "    \n",
        "    return J_style_layer"
      ],
      "execution_count": null,
      "outputs": []
    },
    {
      "cell_type": "code",
      "metadata": {
        "id": "m4kiq-aRLFeJ"
      },
      "source": [
        "STYLE_LAYERS = [\n",
        "    ('conv1_1', 0.2),\n",
        "    ('conv2_1', 0.2),\n",
        "    ('conv3_1', 0.2),\n",
        "    ('conv4_1', 0.2),\n",
        "    ('conv5_1', 0.2)]"
      ],
      "execution_count": null,
      "outputs": []
    },
    {
      "cell_type": "code",
      "metadata": {
        "id": "gR_h9cTNLHMH"
      },
      "source": [
        "def compute_style_cost(model, STYLE_LAYERS):\n",
        "    \"\"\"\n",
        "    Computes the overall style cost from several chosen layers\n",
        "    \n",
        "    Arguments:\n",
        "    model -- our tensorflow model\n",
        "    STYLE_LAYERS -- A python list containing:\n",
        "                        - the names of the layers we would like to extract style from\n",
        "                        - a coefficient for each of them\n",
        "    \n",
        "    Returns: \n",
        "    J_style -- tensor representing a scalar value, style cost defined above by equation (2)\n",
        "    \"\"\"\n",
        "    \n",
        "    # initialize the overall style cost\n",
        "    J_style = 0\n",
        "\n",
        "    for layer_name, coeff in STYLE_LAYERS:\n",
        "\n",
        "        # Select the output tensor of the currently selected layer\n",
        "        out = model[layer_name]\n",
        "\n",
        "        # Set a_S to be the hidden layer activation from the layer we have selected, by running the session on out\n",
        "        a_S = sess.run(out)\n",
        "\n",
        "        # Set a_G to be the hidden layer activation from same layer. Here, a_G references model[layer_name] \n",
        "        # and isn't evaluated yet. Later in the code, we'll assign the image G as the model input, so that\n",
        "        # when we run the session, this will be the activations drawn from the appropriate layer, with G as input.\n",
        "        a_G = out\n",
        "        \n",
        "        # Compute style_cost for the current layer\n",
        "        J_style_layer = compute_layer_style_cost(a_S, a_G)\n",
        "\n",
        "        # Add coeff * J_style_layer of this layer to overall style cost\n",
        "        J_style += coeff * J_style_layer\n",
        "\n",
        "    return J_style"
      ],
      "execution_count": null,
      "outputs": []
    },
    {
      "cell_type": "code",
      "metadata": {
        "id": "UF4VPKh9LJZ8"
      },
      "source": [
        "# GRADED FUNCTION: total_cost\n",
        "\n",
        "def total_cost(J_content, J_style, alpha = 10, beta = 40):\n",
        "    \"\"\"\n",
        "    Computes the total cost function\n",
        "    \n",
        "    Arguments:\n",
        "    J_content -- content cost coded above\n",
        "    J_style -- style cost coded above\n",
        "    alpha -- hyperparameter weighting the importance of the content cost\n",
        "    beta -- hyperparameter weighting the importance of the style cost\n",
        "    \n",
        "    Returns:\n",
        "    J -- total cost as defined by the formula above.\n",
        "    \"\"\"\n",
        "    \n",
        "    ### START CODE HERE ### (≈1 line)\n",
        "    J = alpha*J_content+beta*J_style\n",
        "    ### END CODE HERE ###\n",
        "    \n",
        "    return J"
      ],
      "execution_count": null,
      "outputs": []
    },
    {
      "cell_type": "code",
      "metadata": {
        "id": "921LT7H-LLGf"
      },
      "source": [
        "#Change to input image with a format of RGB 800*600\n",
        "\n",
        "def imagetransfer(path):\n",
        "    png = Image.open(path)\n",
        "    temp=imageio.imread(path)\n",
        "    if temp.shape[2]==4:\n",
        "        png.load() # required for png.split()\n",
        "        transfered = Image.new(\"RGB\", png.size, (255, 255, 255))\n",
        "        transfered.paste(png, mask=png.split()[3]) # 3 is the alpha channel\n",
        "        size = 800, 600\n",
        "        transfered = transfered.resize(size, Image.ANTIALIAS)\n",
        "        transfered.save(path[:-4]+str(\"_transfered.png\"), 'PNG')\n",
        "    else:\n",
        "        size = 800, 600\n",
        "        transfered = png.resize(size, Image.ANTIALIAS)\n",
        "        transfered.save(path[:-4]+str(\"_transfered.png\"), 'PNG')\n",
        "    \n",
        "    return None"
      ],
      "execution_count": null,
      "outputs": []
    },
    {
      "cell_type": "code",
      "metadata": {
        "id": "3d-zmz8RLayI"
      },
      "source": [
        "# from tensorflow.python.framework import ops"
      ],
      "execution_count": null,
      "outputs": []
    },
    {
      "cell_type": "code",
      "metadata": {
        "id": "gWuuxtIKLNH2",
        "colab": {
          "base_uri": "https://localhost:8080/"
        },
        "outputId": "ae3ea5ed-604e-49d1-903e-082a8fd5efdb"
      },
      "source": [
        "# Reset the graph\n",
        "tf.reset_default_graph()\n",
        "\n",
        "# Start interactive session\n",
        "sess = tf.InteractiveSession()"
      ],
      "execution_count": null,
      "outputs": [
        {
          "output_type": "stream",
          "text": [
            "/usr/local/lib/python3.7/dist-packages/tensorflow_core/python/client/session.py:1750: UserWarning: An interactive session is already active. This can cause out-of-memory errors in some cases. You must explicitly call `InteractiveSession.close()` to release resources held by the other session(s).\n",
            "  warnings.warn('An interactive session is already active. This can '\n"
          ],
          "name": "stderr"
        }
      ]
    },
    {
      "cell_type": "code",
      "metadata": {
        "colab": {
          "base_uri": "https://localhost:8080/"
        },
        "id": "1YPanfy1NK6X",
        "outputId": "79a2b4e7-f573-4ee2-93d8-497dd564a336"
      },
      "source": [
        "# Connect to Google Drive\n",
        "\n",
        "from google.colab import drive\n",
        "drive.mount('/content/drive')"
      ],
      "execution_count": null,
      "outputs": [
        {
          "output_type": "stream",
          "text": [
            "Drive already mounted at /content/drive; to attempt to forcibly remount, call drive.mount(\"/content/drive\", force_remount=True).\n"
          ],
          "name": "stdout"
        }
      ]
    },
    {
      "cell_type": "code",
      "metadata": {
        "colab": {
          "base_uri": "https://localhost:8080/"
        },
        "id": "mGrD1Ud-NHwf",
        "outputId": "f8871359-a790-4146-ee64-f6ce46bb8193"
      },
      "source": [
        "ls /content/drive/MyDrive/"
      ],
      "execution_count": null,
      "outputs": [
        {
          "output_type": "stream",
          "text": [
            " 20200912a_YL_ENAR_abstract.gdoc\n",
            "'6.862 Share_Papers and Links.gdoc'\n",
            "'A_Sunday_on_La Grande_Jatte.png'\n",
            " boston-charles-river-in-autumn-john-burk.jpg\n",
            " Boston-Public-Garden.jpg\n",
            " CBIS_DDSM.zip\n",
            "\u001b[0m\u001b[01;34m'Colab Notebooks'\u001b[0m/\n",
            " \u001b[01;34mDesktop\u001b[0m/\n",
            " \u001b[01;34mDocuments\u001b[0m/\n",
            " flower.jpg\n",
            " freestyle.jpg\n",
            " freestyle_transfered.png\n",
            " fushihui2.jpg\n",
            " fushihui.jpg\n",
            " fushihui_transfered.png\n",
            " girl.jpg\n",
            " gold_gate.jpg\n",
            " grass.jpg\n",
            " grass_transfered.png\n",
            " harvard.jpg\n",
            " imagenet-vgg-verydeep-19.mat\n",
            " kulou.jpg\n",
            " kulou_transfered.png\n",
            " kusama.jpg\n",
            " kusama_transfered.png\n",
            " Liz_Andy.jpg\n",
            "'Liz Andy _transfered.png'\n",
            " Liz_Andy_transfered.png\n",
            "'Liz Andy Warhol THIS_0.jpg'\n",
            "'Mediation software papers.gsheet'\n",
            " MIT.jpg\n",
            " MIT_transfered.png\n",
            " \u001b[01;34mmodels\u001b[0m/\n",
            " newbury.jpg\n",
            " norwood.png\n",
            " norwood_transfered.png\n",
            " \u001b[01;34mNotability\u001b[0m/\n",
            " \u001b[01;34moutput18065\u001b[0m/\n",
            " peanutbutter.png\n",
            " peanutbutter_transfered.png\n",
            " \u001b[01;34mPhotos\u001b[0m/\n",
            " picasso.jpg\n",
            " shout.jpg\n",
            " shout_transfered.png\n",
            " snow.jpg\n",
            " starry_night.jpg\n",
            " style.jpg\n",
            " style_transfered.png\n",
            "'Summary of citations.gsheet'\n",
            " varnish.jpg\n",
            " varnish_transfered.png\n",
            " venis.jpg\n",
            " winter_sun.png\n",
            " winter_sun_transfered.png\n",
            "'YL_KY_EPIDEMIOLOGY manuscript.gdoc'\n",
            " YL_YK_Manuscript.gdoc\n"
          ],
          "name": "stdout"
        }
      ]
    },
    {
      "cell_type": "markdown",
      "metadata": {
        "id": "7OjM1FDIP6SS"
      },
      "source": [
        "## Load content and style images and transfer\n",
        "\n"
      ]
    },
    {
      "cell_type": "code",
      "metadata": {
        "id": "1EDJcLoFMRvo"
      },
      "source": [
        "imagetransfer(\"/content/drive/MyDrive/MIT.jpg\")\n",
        "#im = Image.open(\"images/Content.png\")\n",
        "\n",
        "content_image = imageio.imread(\"/content/drive/MyDrive/MIT_transfered.png\")\n",
        "content_image = reshape_and_normalize_image(content_image)"
      ],
      "execution_count": null,
      "outputs": []
    },
    {
      "cell_type": "code",
      "metadata": {
        "id": "5bLOSUJ3NyGi"
      },
      "source": [
        "imagetransfer(\"/content/drive/MyDrive/A_Sunday_on_La_Grande_Jatte.png\")\n",
        "style_image = imageio.imread(\"/content/drive/MyDrive/A_Sunday_on_La_Grande_Jatte_transfered.png\")\n",
        "style_image = reshape_and_normalize_image(style_image)"
      ],
      "execution_count": null,
      "outputs": []
    },
    {
      "cell_type": "code",
      "metadata": {
        "colab": {
          "base_uri": "https://localhost:8080/",
          "height": 303
        },
        "id": "bB-SyE4-OMPn",
        "outputId": "000ef05d-52e3-44fc-81d7-446acf51f7e5"
      },
      "source": [
        "generated_image = generate_noise_image(content_image)\n",
        "imshow(generated_image[0])"
      ],
      "execution_count": null,
      "outputs": [
        {
          "output_type": "stream",
          "text": [
            "WARNING:matplotlib.image:Clipping input data to the valid range for imshow with RGB data ([0..1] for floats or [0..255] for integers).\n"
          ],
          "name": "stderr"
        },
        {
          "output_type": "execute_result",
          "data": {
            "text/plain": [
              "<matplotlib.image.AxesImage at 0x7f4079b97f50>"
            ]
          },
          "metadata": {
            "tags": []
          },
          "execution_count": 136
        },
        {
          "output_type": "display_data",
          "data": {
            "image/png": "[encoded data removed]",
            "text/plain": [
              "<Figure size 432x288 with 1 Axes>"
            ]
          },
          "metadata": {
            "tags": [],
            "needs_background": "light"
          }
        }
      ]
    },
    {
      "cell_type": "markdown",
      "metadata": {
        "id": "1FG4hVd7QFN3"
      },
      "source": [
        "## Load VGG19 model"
      ]
    },
    {
      "cell_type": "code",
      "metadata": {
        "id": "x85LtjBwOPhv"
      },
      "source": [
        "model = load_vgg_model(\"/content/drive/MyDrive/imagenet-vgg-verydeep-19.mat\")"
      ],
      "execution_count": null,
      "outputs": []
    },
    {
      "cell_type": "code",
      "metadata": {
        "id": "Wirn-QvXOSFi"
      },
      "source": [
        "# Assign the content image to be the input of the VGG model.  \n",
        "sess.run(model['input'].assign(content_image))\n",
        "\n",
        "# Select the output tensor of layer conv4_2\n",
        "out = model['conv4_2']\n",
        "\n",
        "# Set a_C to be the hidden layer activation from the layer we have selected\n",
        "a_C = sess.run(out)\n",
        "\n",
        "# Set a_G to be the hidden layer activation from same layer. Here, a_G references model['conv4_2'] \n",
        "# and isn't evaluated yet. Later in the code, we'll assign the image G as the model input, so that\n",
        "# when we run the session, this will be the activations drawn from the appropriate layer, with G as input.\n",
        "a_G = out\n",
        "\n",
        "# Compute the content cost\n",
        "J_content = compute_content_cost(a_C, a_G)"
      ],
      "execution_count": null,
      "outputs": []
    },
    {
      "cell_type": "code",
      "metadata": {
        "id": "ZYqKf5UQOanW"
      },
      "source": [
        "# Assign the input of the model to be the \"style\" image \n",
        "sess.run(model['input'].assign(style_image))\n",
        "\n",
        "# Compute the style cost\n",
        "J_style = compute_style_cost(model, STYLE_LAYERS)"
      ],
      "execution_count": null,
      "outputs": []
    },
    {
      "cell_type": "code",
      "metadata": {
        "id": "ax_A8jVeOdZ8"
      },
      "source": [
        "### START CODE HERE ### (1 line)\n",
        "J = total_cost(J_content, J_style, alpha = 10, beta = 40)\n",
        "### END CODE HERE ###"
      ],
      "execution_count": null,
      "outputs": []
    },
    {
      "cell_type": "code",
      "metadata": {
        "id": "jgWgTczJOgG6"
      },
      "source": [
        "# define optimizer (1 line)\n",
        "optimizer = tf.train.AdamOptimizer(2.0)\n",
        "\n",
        "# define train_step (1 line)\n",
        "train_step = optimizer.minimize(J)"
      ],
      "execution_count": null,
      "outputs": []
    },
    {
      "cell_type": "code",
      "metadata": {
        "id": "kQDcb6a0Ohwe"
      },
      "source": [
        "def model_nn(sess, input_image, num_iterations = 200):\n",
        "    \n",
        "    # Initialize global variables (you need to run the session on the initializer)\n",
        "    ### START CODE HERE ### (1 line)\n",
        "    sess.run(tf.global_variables_initializer())\n",
        "    ### END CODE HERE ###\n",
        "    \n",
        "    # Run the noisy input image (initial generated image) through the model. Use assign().\n",
        "    ### START CODE HERE ### (1 line)\n",
        "    sess.run(model['input'].assign(input_image))\n",
        "    ### END CODE HERE ###\n",
        "    \n",
        "    for i in range(num_iterations):\n",
        "    \n",
        "        # Run the session on the train_step to minimize the total cost\n",
        "        ### START CODE HERE ### (1 line)\n",
        "        sess.run(train_step)\n",
        "        ### END CODE HERE ###\n",
        "        \n",
        "        # Compute the generated image by running the session on the current model['input']\n",
        "        ### START CODE HERE ### (1 line)\n",
        "        generated_image = sess.run(model['input'])\n",
        "        ### END CODE HERE ###\n",
        "\n",
        "        # Print every 20 iteration.\n",
        "        if i%20 == 0:\n",
        "            Jt, Jc, Js = sess.run([J, J_content, J_style])\n",
        "            print(\"Iteration \" + str(i) + \" :\")\n",
        "            print(\"total cost = \" + str(Jt))\n",
        "            print(\"content cost = \" + str(Jc))\n",
        "            print(\"style cost = \" + str(Js))\n",
        "            \n",
        "            # save current generated image in the \"/output\" directory\n",
        "            imageio.imwrite(\"/content/drive/MyDrive/output18065/\" + str(i) + \".png\", generated_image[0,:,:,:])\n",
        "    \n",
        "    # save last generated image\n",
        "    imageio.imwrite('/content/drive/MyDrive/output18065/generated_image.jpg', generated_image[0,:,:,:])\n",
        "    \n",
        "    return generated_image"
      ],
      "execution_count": null,
      "outputs": []
    },
    {
      "cell_type": "code",
      "metadata": {
        "colab": {
          "base_uri": "https://localhost:8080/"
        },
        "id": "9j2uHZIrOkMr",
        "outputId": "f4dfa5a0-e542-4e8d-b02b-0f78b5c31ad0"
      },
      "source": [
        "model_nn(sess, generated_image)"
      ],
      "execution_count": null,
      "outputs": [
        {
          "output_type": "stream",
          "text": [
            "WARNING:root:Lossy conversion from float32 to uint8. Range [-63.45783996582031, 74.40894317626953]. Convert image to uint8 prior to saving to suppress this warning.\n"
          ],
          "name": "stderr"
        },
        {
          "output_type": "stream",
          "text": [
            "Iteration 0 :\n",
            "total cost = 467749020.0\n",
            "content cost = 7767.791\n",
            "style cost = 11691784.0\n"
          ],
          "name": "stdout"
        },
        {
          "output_type": "stream",
          "text": [
            "WARNING:root:Lossy conversion from float32 to uint8. Range [-97.88543701171875, 103.66002655029297]. Convert image to uint8 prior to saving to suppress this warning.\n"
          ],
          "name": "stderr"
        },
        {
          "output_type": "stream",
          "text": [
            "Iteration 20 :\n",
            "total cost = 60158870.0\n",
            "content cost = 11584.76\n",
            "style cost = 1501075.6\n"
          ],
          "name": "stdout"
        },
        {
          "output_type": "stream",
          "text": [
            "WARNING:root:Lossy conversion from float32 to uint8. Range [-116.87722778320312, 114.93878936767578]. Convert image to uint8 prior to saving to suppress this warning.\n"
          ],
          "name": "stderr"
        },
        {
          "output_type": "stream",
          "text": [
            "Iteration 40 :\n",
            "total cost = 25698022.0\n",
            "content cost = 12466.576\n",
            "style cost = 639333.9\n"
          ],
          "name": "stdout"
        },
        {
          "output_type": "stream",
          "text": [
            "WARNING:root:Lossy conversion from float32 to uint8. Range [-134.38429260253906, 118.52071380615234]. Convert image to uint8 prior to saving to suppress this warning.\n"
          ],
          "name": "stderr"
        },
        {
          "output_type": "stream",
          "text": [
            "Iteration 60 :\n",
            "total cost = 15102222.0\n",
            "content cost = 12909.974\n",
            "style cost = 374328.06\n"
          ],
          "name": "stdout"
        },
        {
          "output_type": "stream",
          "text": [
            "WARNING:root:Lossy conversion from float32 to uint8. Range [-145.5510711669922, 116.57992553710938]. Convert image to uint8 prior to saving to suppress this warning.\n"
          ],
          "name": "stderr"
        },
        {
          "output_type": "stream",
          "text": [
            "Iteration 80 :\n",
            "total cost = 10640006.0\n",
            "content cost = 13180.423\n",
            "style cost = 262705.06\n"
          ],
          "name": "stdout"
        },
        {
          "output_type": "stream",
          "text": [
            "WARNING:root:Lossy conversion from float32 to uint8. Range [-159.44927978515625, 115.70662689208984]. Convert image to uint8 prior to saving to suppress this warning.\n"
          ],
          "name": "stderr"
        },
        {
          "output_type": "stream",
          "text": [
            "Iteration 100 :\n",
            "total cost = 8256510.5\n",
            "content cost = 13384.05\n",
            "style cost = 203066.75\n"
          ],
          "name": "stdout"
        },
        {
          "output_type": "stream",
          "text": [
            "WARNING:root:Lossy conversion from float32 to uint8. Range [-168.54644775390625, 118.16001892089844]. Convert image to uint8 prior to saving to suppress this warning.\n"
          ],
          "name": "stderr"
        },
        {
          "output_type": "stream",
          "text": [
            "Iteration 120 :\n",
            "total cost = 6749359.0\n",
            "content cost = 13549.988\n",
            "style cost = 165346.47\n"
          ],
          "name": "stdout"
        },
        {
          "output_type": "stream",
          "text": [
            "WARNING:root:Lossy conversion from float32 to uint8. Range [-171.44041442871094, 120.72607421875]. Convert image to uint8 prior to saving to suppress this warning.\n"
          ],
          "name": "stderr"
        },
        {
          "output_type": "stream",
          "text": [
            "Iteration 140 :\n",
            "total cost = 5699649.0\n",
            "content cost = 13694.13\n",
            "style cost = 139067.69\n"
          ],
          "name": "stdout"
        },
        {
          "output_type": "stream",
          "text": [
            "WARNING:root:Lossy conversion from float32 to uint8. Range [-170.45870971679688, 133.93450927734375]. Convert image to uint8 prior to saving to suppress this warning.\n"
          ],
          "name": "stderr"
        },
        {
          "output_type": "stream",
          "text": [
            "Iteration 160 :\n",
            "total cost = 4919492.5\n",
            "content cost = 13816.857\n",
            "style cost = 119533.09\n"
          ],
          "name": "stdout"
        },
        {
          "output_type": "stream",
          "text": [
            "WARNING:root:Lossy conversion from float32 to uint8. Range [-170.39524841308594, 144.49563598632812]. Convert image to uint8 prior to saving to suppress this warning.\n"
          ],
          "name": "stderr"
        },
        {
          "output_type": "stream",
          "text": [
            "Iteration 180 :\n",
            "total cost = 4313983.0\n",
            "content cost = 13920.842\n",
            "style cost = 104369.37\n"
          ],
          "name": "stdout"
        },
        {
          "output_type": "stream",
          "text": [
            "WARNING:root:Lossy conversion from float32 to uint8. Range [-170.79730224609375, 151.6320343017578]. Convert image to uint8 prior to saving to suppress this warning.\n"
          ],
          "name": "stderr"
        },
        {
          "output_type": "execute_result",
          "data": {
            "text/plain": [
              "array([[[[  1.0895447 ,   0.54418147,  45.21137   ],\n",
              "         [-27.412785  , -60.80089   , -31.33933   ],\n",
              "         [-22.454195  , -51.06662   , -30.975029  ],\n",
              "         ...,\n",
              "         [-29.725601  , -14.8712435 ,  36.354618  ],\n",
              "         [-26.121515  , -17.18761   ,  50.66539   ],\n",
              "         [-28.936804  ,  10.831101  ,  70.41019   ]],\n",
              "\n",
              "        [[  1.0213293 , -20.096256  ,   6.3220887 ],\n",
              "         [-30.8161    , -38.584156  , -42.697014  ],\n",
              "         [-27.987488  , -27.908823  , -31.991888  ],\n",
              "         ...,\n",
              "         [-21.584908  , -57.201855  , 119.1739    ],\n",
              "         [-58.528812  , -44.978256  ,  85.71402   ],\n",
              "         [-28.778486  ,  -3.81818   ,  61.443527  ]],\n",
              "\n",
              "        [[-20.316488  , -18.047554  ,   0.5042757 ],\n",
              "         [-26.434319  , -35.539864  , -20.445404  ],\n",
              "         [-41.97611   , -24.175982  , -33.047153  ],\n",
              "         ...,\n",
              "         [-35.370144  ,   0.7039598 ,  55.954197  ],\n",
              "         [-38.272186  , -44.15064   ,  82.22354   ],\n",
              "         [-21.08209   ,  -3.9401443 ,  60.927345  ]],\n",
              "\n",
              "        ...,\n",
              "\n",
              "        [[-40.972336  , -43.518124  ,  67.45092   ],\n",
              "         [-62.747047  , -59.09297   ,   5.1031036 ],\n",
              "         [-43.225838  , -48.66917   ,  -8.704671  ],\n",
              "         ...,\n",
              "         [-47.644352  , -61.578075  , -41.545834  ],\n",
              "         [-18.529476  , -61.09744   , -14.031065  ],\n",
              "         [  7.7720847 , -23.319292  ,  19.528519  ]],\n",
              "\n",
              "        [[-68.40037   , -76.41751   ,  60.007393  ],\n",
              "         [-92.117134  , -85.834625  , -10.508704  ],\n",
              "         [-58.11306   , -61.958656  ,   0.862243  ],\n",
              "         ...,\n",
              "         [-53.57674   , -38.98903   ,   2.116207  ],\n",
              "         [-72.65145   , -74.48786   ,  -9.6664095 ],\n",
              "         [ -2.5611465 , -39.553993  ,   9.02106   ]],\n",
              "\n",
              "        [[-19.566505  , -21.624107  ,  53.968483  ],\n",
              "         [-59.564934  , -53.10511   ,  28.578304  ],\n",
              "         [-41.21571   , -51.680214  ,  20.149149  ],\n",
              "         ...,\n",
              "         [ 59.430504  ,  14.479685  ,  13.531845  ],\n",
              "         [  5.12398   , -23.853586  ,  37.60362   ],\n",
              "         [ 19.45016   , -20.223295  ,  35.337376  ]]]], dtype=float32)"
            ]
          },
          "metadata": {
            "tags": []
          },
          "execution_count": 157
        }
      ]
    },
    {
      "cell_type": "code",
      "metadata": {
        "id": "cXBy9hHXO0Pv"
      },
      "source": [
        ""
      ],
      "execution_count": null,
      "outputs": []
    }
  ]
}